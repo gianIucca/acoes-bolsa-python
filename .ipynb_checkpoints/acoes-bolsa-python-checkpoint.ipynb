{
 "cells": [
  {
   "cell_type": "markdown",
   "id": "d419ce6f",
   "metadata": {},
   "source": [
    "## Projeto para verificar o preço das ações da bolsa de valores utilizando Python, Pandas, Matplotlib e Seaborn"
   ]
  },
  {
   "cell_type": "code",
   "execution_count": 1,
   "id": "b13d78f3",
   "metadata": {},
   "outputs": [
    {
     "name": "stdout",
     "output_type": "stream",
     "text": [
      "\n",
      " Apple dataframe \n",
      "                 High        Low       Open  Close   Volume  Adj Close\n",
      "Date                                                                  \n",
      "2019-01-02  26.847000  25.480000  25.955000  26.24  3067000  26.056376\n",
      "2019-01-03  26.850000  25.530001  26.120001  26.24  2979900  26.056376\n",
      "2019-01-04  28.610001  26.650000  26.840000  28.34  5653300  28.141680\n",
      "2019-01-07  28.910000  28.146000  28.530001  28.42  2441000  28.221119\n",
      "2019-01-08  28.847000  27.650000  28.730000  28.25  2218300  28.052309\n"
     ]
    }
   ],
   "source": [
    "import pandas as pd\n",
    "import datetime\n",
    "import pandas_datareader as dr\n",
    "\n",
    "# Get data for this year, so far\n",
    "start = datetime.datetime(2019,1,1)\n",
    "end = datetime.datetime(2019,6,1)\n",
    "\n",
    "companies = ['AA', 'AAPL', 'BA', 'IBM']\n",
    "df_dict = {}\n",
    "for name in companies:\n",
    "    df_dict[name] = pd.DataFrame()\n",
    "    df_dict[name] = dr.data.get_data_yahoo(name, start, end)\n",
    "\n",
    "print()\n",
    "print(' Apple dataframe ')\n",
    "print(df_dict['AA'].head())"
   ]
  }
 ],
 "metadata": {
  "kernelspec": {
   "display_name": "Python 3",
   "language": "python",
   "name": "python3"
  },
  "language_info": {
   "codemirror_mode": {
    "name": "ipython",
    "version": 3
   },
   "file_extension": ".py",
   "mimetype": "text/x-python",
   "name": "python",
   "nbconvert_exporter": "python",
   "pygments_lexer": "ipython3",
   "version": "3.8.8"
  }
 },
 "nbformat": 4,
 "nbformat_minor": 5
}
